{
 "cells": [
  {
   "cell_type": "markdown",
   "id": "9a73efed-0dcd-4bd9-94f9-c73d1f1f07fb",
   "metadata": {},
   "source": [
    "# Sentiment Analysis\n",
    "## By Alejandro Gomez Orjuela and Melanie Giraldo C."
   ]
  },
  {
   "cell_type": "markdown",
   "id": "7345cd15-9e7f-4856-b1aa-b14e6c83fe00",
   "metadata": {},
   "source": [
    "## Introduction"
   ]
  },
  {
   "cell_type": "markdown",
   "id": "f378e028-f22a-4b72-937e-19b57dc44489",
   "metadata": {},
   "source": [
    "#### Sentiment analysis is a popular technique used to determine the emotional tone behind a body of text. It is widely applied to social media posts to analyze public opinions on various topics. This project will focus on performing sentiment analysis on social media data, such as tweets, to classify posts as positive, negative, or neutral."
   ]
  },
  {
   "cell_type": "markdown",
   "id": "597c10ff-1247-4be4-8519-6db92fbe7fbf",
   "metadata": {},
   "source": [
    "## Objective "
   ]
  },
  {
   "cell_type": "markdown",
   "id": "2b732e35-1ffa-44b1-9dfe-e37a0c7141be",
   "metadata": {},
   "source": [
    "#### To apply sentiment analysis techniques on a dataset of social media posts, categorizing them into positive, negative, and neutral sentiments, and providing insights into public opinion on a particular topic.\n"
   ]
  },
  {
   "cell_type": "markdown",
   "id": "2f8b65c3-9163-4ee9-ab80-4c740f5627d3",
   "metadata": {},
   "source": [
    "## 1.Import libraries"
   ]
  },
  {
   "cell_type": "code",
   "execution_count": 1,
   "id": "5cc6a93e-a475-42b7-a892-55e55b287495",
   "metadata": {},
   "source": [
    "import pandas as pd\n",
    "import re\n",
    "import nltk\n",
    "from nltk.corpus import stopwords\n",
    "from nltk.tokenize import word_tokenize\n",
    "from textblob import TextBlob\n",
    "from nltk.sentiment.vader import SentimentIntensityAnalyzer\n",
    "import matplotlib.pyplot as plt\n",
    "import seaborn as sns\n",
    "from collections import Counter\n",
    "from wordcloud import WordCloud"
   ],
   "outputs": []
  },
  {
   "cell_type": "markdown",
   "id": "4de6a459-7264-4e7b-9e99-d001e3b0d5fd",
   "metadata": {},
   "source": [
    "## 2.Import Datasheet"
   ]
  },
  {
   "cell_type": "code",
   "execution_count": 2,
   "id": "92cda74f-3e7f-40d6-a2f4-5791efca7914",
   "metadata": {},
   "source": [
    "data = []\n",
    "with open(\"data/social_media_posts.txt\", \"r\") as file:\n",
    "    for line in file:\n",
    "        parts = line.strip().split(\",\", 2)\n",
    "        if len(parts) == 3:\n",
    "            data.append(parts)\n",
    "df = pd.DataFrame(data, columns=[\"post_id\", \"username\", \"post_text\"])\n",
    "print(df.head())"
   ],
   "outputs": []
  },
  {
   "cell_type": "markdown",
   "id": "c50e34c8-c839-412a-8c48-534846a5733b",
   "metadata": {},
   "source": [
    "## 3.Text Processing"
   ]
  },
  {
   "cell_type": "code",
   "execution_count": 5,
   "id": "850dbe88-963d-44cf-9508-46beeb126201",
   "metadata": {},
   "source": [
    "nltk.download('stopwords')\n",
    "nltk.download('punkt')\n",
    "nltk.download('punkt_tab')\n",
    "nltk.download('vader_lexicon')\n",
    "def clean_text(text):\n",
    "    text = re.sub(r'http\\S+|www\\S+|https\\S+', '', text, flags=re.MULTILINE)\n",
    "    text = re.sub(r'@\\w+', '', text)\n",
    "    text = re.sub(r'#', '', text)\n",
    "    text = re.sub(r'[^a-zA-Z\\s]', '', text)\n",
    "    return text.lower()\n",
    "\n",
    "df['cleaned_text'] = df['post_text'].apply(clean_text)\n",
    "\n",
    "stop_words = set(stopwords.words('english'))\n",
    "df['tokenized'] = df['cleaned_text'].apply(lambda x: [word for word in word_tokenize(x) if word not in stop_words])\n",
    "\n",
    "print(df[['post_text', 'cleaned_text', 'tokenized']].head())"
   ],
   "outputs": []
  },
  {
   "cell_type": "markdown",
   "id": "b493c0f9-0fce-45de-97c1-e46f003e1db4",
   "metadata": {},
   "source": [
    "## 4.Sentiment Distribution"
   ]
  },
  {
   "cell_type": "code",
   "execution_count": 10,
   "id": "093212a8-f025-4601-8ae8-a32d58c3d49e",
   "metadata": {},
   "source": [
    "sia = SentimentIntensityAnalyzer()\n",
    "\n",
    "def get_sentiment(text):\n",
    "    score = sia.polarity_scores(text)\n",
    "    if score['compound'] > 0:\n",
    "        return 1  # positivo\n",
    "    elif score['compound'] < 0:\n",
    "        return -1  # negativo\n",
    "    else:\n",
    "        return 0  # neutral\n",
    "\n",
    "df['sentiment_label'] = df['cleaned_text'].apply(get_sentiment)\n",
    "print(df[['cleaned_text', 'sentiment_label']].head())\n",
    "\n",
    "sentiment_counts = df['sentiment_label'].value_counts()\n",
    "plt.figure(figsize=(8, 5))\n",
    "sns.barplot(x=sentiment_counts.index, y=sentiment_counts.values, hue=sentiment_counts.index, palette='viridis', errorbar=None)\n",
    "plt.xlabel(\"Sentiment\")\n",
    "plt.ylabel(\"Number of Posts\")\n",
    "plt.title(\"Sentiment Distribution\")\n",
    "plt.xticks(ticks=[-1, 0, 1], labels=[\"Negative\", \"Neutral\", \"Positive\"])\n",
    "plt.ylim(0, sentiment_counts.max() + 5)\n",
    "plt.grid(axis='y', linestyle='--')\n",
    "plt.legend([],[], frameon=False)\n",
    "plt.show()\n"
   ],
   "outputs": []
  },
  {
   "cell_type": "markdown",
   "id": "42fe1cbf-cdf4-4c07-bf97-e41f1554e561",
   "metadata": {},
   "source": [
    "## 5.Word Frecuency Analysis"
   ]
  },
  {
   "cell_type": "code",
   "execution_count": 11,
   "id": "04cc8ffa-f716-48cf-a75b-d5161bbe86cf",
   "metadata": {},
   "source": [
    "def generate_wordcloud(text, title):\n",
    "    wordcloud = WordCloud(width=800, height=400, background_color='white').generate(' '.join(text))\n",
    "    plt.figure(figsize=(10, 6))\n",
    "    plt.imshow(wordcloud, interpolation='bilinear')\n",
    "    plt.title(title)\n",
    "    plt.axis('off')\n",
    "    plt.show()\n",
    "\n",
    "positive_words = df[df['sentiment_label'] == 1]['tokenized'].explode()\n",
    "negative_words = df[df['sentiment_label'] == -1]['tokenized'].explode()\n",
    "neutral_words = df[df['sentiment_label'] == 0]['tokenized'].explode()\n",
    "\n",
    "generate_wordcloud(positive_words, \"Positive Posts WordCloud\")\n",
    "generate_wordcloud(negative_words, \"Negative Posts WordCloud\")\n",
    "generate_wordcloud(neutral_words, \"Neutral Posts WordCloud\")"
   ],
   "outputs": []
  },
  {
   "cell_type": "markdown",
   "id": "e37800de-30fc-4aa0-aedc-f9f2309e89ff",
   "metadata": {},
   "source": [
    "## 6.Visualization and analysis "
   ]
  },
  {
   "cell_type": "code",
   "execution_count": 15,
   "id": "b3a9d2b0-8f80-44a9-b8db-b33c5472e27e",
   "metadata": {},
   "source": [
    "if 'timestamp' not in df.columns:\n",
    "    df['timestamp'] = pd.date_range(start='2023-01-01', periods=len(df), freq='D')\n",
    "\n",
    "df['timestamp'] = pd.to_datetime(df['timestamp'])\n",
    "df.set_index('timestamp', inplace=True)\n",
    "\n",
    "df['sentiment_label'] = df['sentiment_label'].astype(int)\n",
    "sentiment_trend = df['sentiment_label'].resample('ME').mean()\n",
    "\n",
    "plt.figure(figsize=(10, 6))\n",
    "sentiment_trend.plot(kind='line', marker='o', linestyle='-', color='b')\n",
    "plt.title(\"Sentiment Trend Over Time\", fontsize=16)\n",
    "plt.ylabel(\"Average Sentiment\", fontsize=12)\n",
    "plt.xlabel(\"Time\", fontsize=12)\n",
    "plt.grid(True)\n",
    "plt.show()"
   ],
   "outputs": []
  },
  {
   "cell_type": "code",
   "execution_count": 13,
   "id": "5882f690-212d-46eb-b4fd-e93a7dbd0f08",
   "metadata": {},
   "source": [
    "positive_count = df[df['sentiment_label'] == 1].shape[0]\n",
    "negative_count = df[df['sentiment_label'] == -1].shape[0]\n",
    "neutral_count = df[df['sentiment_label'] == 0].shape[0]\n",
    "\n",
    "summary = {\n",
    "    \"Total Posts\": len(df),\n",
    "    \"Positive Posts\": positive_count,\n",
    "    \"Negative Posts\": negative_count,\n",
    "    \"Neutral Posts\": neutral_count,\n",
    "    \"Positive Ratio\": positive_count / len(df),\n",
    "    \"Negative Ratio\": negative_count / len(df),\n",
    "    \"Neutral Ratio\": neutral_count / len(df),\n",
    "}\n",
    "\n",
    "print(summary)\n"
   ],
   "outputs": []
  },
  {
   "cell_type": "markdown",
   "id": "f695df10-efc1-4e82-8662-4fe3bcaec6bb",
   "metadata": {},
   "source": [
    "## Conclusion"
   ]
  },
  {
   "cell_type": "markdown",
   "id": "e3a81215-2d28-42d6-9948-4d5edacdcd1e",
   "metadata": {},
   "source": [
    "#### This project effectively categorized social media posts into positive, negative, and neutral sentiments using sentiment analysis tools. Text preprocessing and analysis with libraries like TextBlob and VADER revealed trends in public opinion. Visualizing the sentiment distribution and common words provided a clearer understanding of the emotions in the posts. Overall, the project highlighted how sentiment analysis can help track public opinion and its potential applications in various fields."
   ]
  }
 ],
 "metadata": {
  "kernelspec": {
   "display_name": "Python 3 (ipykernel)",
   "language": "python",
   "name": "python3"
  },
  "language_info": {
   "codemirror_mode": {
    "name": "ipython",
    "version": 3
   },
   "file_extension": ".py",
   "mimetype": "text/x-python",
   "name": "python",
   "nbconvert_exporter": "python",
   "pygments_lexer": "ipython3",
   "version": "3.9.13"
  }
 },
 "nbformat": 4,
 "nbformat_minor": 5
}
